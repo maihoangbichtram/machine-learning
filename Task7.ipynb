{
 "nbformat": 4,
 "nbformat_minor": 0,
 "metadata": {
  "colab": {
   "provenance": [],
   "authorship_tag": "ABX9TyPqjiURKPrTQpwL+5b7nJyv"
  },
  "kernelspec": {
   "name": "python3",
   "display_name": "Python 3"
  },
  "language_info": {
   "name": "python"
  }
 },
 "cells": [
  {
   "cell_type": "code",
   "source": [
    "!pip install boto3"
   ],
   "metadata": {
    "colab": {
     "base_uri": "https://localhost:8080/"
    },
    "id": "AYuPsndclhRX",
    "executionInfo": {
     "status": "ok",
     "timestamp": 1682713334271,
     "user_tz": -180,
     "elapsed": 20612,
     "user": {
      "displayName": "Trâm Mai",
      "userId": "14047835568893253890"
     }
    },
    "outputId": "4afcfa31-ab78-4063-8c45-964d2461c07e"
   },
   "execution_count": 1,
   "outputs": [
    {
     "output_type": "stream",
     "name": "stdout",
     "text": [
      "Looking in indexes: https://pypi.org/simple, https://us-python.pkg.dev/colab-wheels/public/simple/\n",
      "Collecting boto3\n",
      "  Downloading boto3-1.26.123-py3-none-any.whl (135 kB)\n",
      "\u001B[2K     \u001B[90m━━━━━━━━━━━━━━━━━━━━━━━━━━━━━━━━━━━━━━━\u001B[0m \u001B[32m135.6/135.6 kB\u001B[0m \u001B[31m1.4 MB/s\u001B[0m eta \u001B[36m0:00:00\u001B[0m\n",
      "\u001B[?25hCollecting s3transfer<0.7.0,>=0.6.0\n",
      "  Downloading s3transfer-0.6.0-py3-none-any.whl (79 kB)\n",
      "\u001B[2K     \u001B[90m━━━━━━━━━━━━━━━━━━━━━━━━━━━━━━━━━━━━━━━━\u001B[0m \u001B[32m79.6/79.6 kB\u001B[0m \u001B[31m5.7 MB/s\u001B[0m eta \u001B[36m0:00:00\u001B[0m\n",
      "\u001B[?25hCollecting jmespath<2.0.0,>=0.7.1\n",
      "  Downloading jmespath-1.0.1-py3-none-any.whl (20 kB)\n",
      "Collecting botocore<1.30.0,>=1.29.123\n",
      "  Downloading botocore-1.29.123-py3-none-any.whl (10.7 MB)\n",
      "\u001B[2K     \u001B[90m━━━━━━━━━━━━━━━━━━━━━━━━━━━━━━━━━━━━━━━━\u001B[0m \u001B[32m10.7/10.7 MB\u001B[0m \u001B[31m41.2 MB/s\u001B[0m eta \u001B[36m0:00:00\u001B[0m\n",
      "\u001B[?25hRequirement already satisfied: python-dateutil<3.0.0,>=2.1 in /usr/local/lib/python3.10/dist-packages (from botocore<1.30.0,>=1.29.123->boto3) (2.8.2)\n",
      "Requirement already satisfied: urllib3<1.27,>=1.25.4 in /usr/local/lib/python3.10/dist-packages (from botocore<1.30.0,>=1.29.123->boto3) (1.26.15)\n",
      "Requirement already satisfied: six>=1.5 in /usr/local/lib/python3.10/dist-packages (from python-dateutil<3.0.0,>=2.1->botocore<1.30.0,>=1.29.123->boto3) (1.16.0)\n",
      "Installing collected packages: jmespath, botocore, s3transfer, boto3\n",
      "Successfully installed boto3-1.26.123 botocore-1.29.123 jmespath-1.0.1 s3transfer-0.6.0\n"
     ]
    }
   ]
  },
  {
   "cell_type": "code",
   "source": [
    "PROFILING_GROUP_NAME = 'DemoApplication-WithIssues'\n",
    "CSV_FILE_NAME = 'recommendations.csv'"
   ],
   "metadata": {
    "id": "rijFC8JcolYq",
    "executionInfo": {
     "status": "ok",
     "timestamp": 1682713339152,
     "user_tz": -180,
     "elapsed": 1074,
     "user": {
      "displayName": "Trâm Mai",
      "userId": "14047835568893253890"
     }
    }
   },
   "execution_count": 2,
   "outputs": []
  },
  {
   "cell_type": "code",
   "source": [
    "import boto3\n",
    "from botocore.config import Config\n",
    "from datetime import datetime\n",
    "my_config = Config(\n",
    "    region_name = 'eu-north-1',\n",
    "    retries = {\n",
    "        'max_attempts': 10,\n",
    "        'mode': 'standard'\n",
    "    }\n",
    ")\n",
    "\n",
    "client = boto3.client('codeguruprofiler', \n",
    "                      config=my_config, \n",
    "                      aws_access_key_id='<aws_access_key_id>',\n",
    "                      aws_secret_access_key='<aws_secret_access_key>'\n",
    ")"
   ],
   "metadata": {
    "id": "ytzOmI6ElWpM",
    "executionInfo": {
     "status": "ok",
     "timestamp": 1682713342152,
     "user_tz": -180,
     "elapsed": 3,
     "user": {
      "displayName": "Trâm Mai",
      "userId": "14047835568893253890"
     }
    }
   },
   "execution_count": 3,
   "outputs": []
  },
  {
   "cell_type": "code",
   "source": [
    "fields = {\n",
    "    'id': 'Id',\n",
    "    'name': 'Name',\n",
    "    'description': 'Description',\n",
    "    'resolutionSteps': 'Resolution',\n",
    "    'startTime': 'Profile start time',\n",
    "    'endTime': 'Profile end time'\n",
    "}"
   ],
   "metadata": {
    "id": "uzNnsltUAH_R",
    "executionInfo": {
     "status": "ok",
     "timestamp": 1682713345127,
     "user_tz": -180,
     "elapsed": 237,
     "user": {
      "displayName": "Trâm Mai",
      "userId": "14047835568893253890"
     }
    }
   },
   "execution_count": 4,
   "outputs": []
  },
  {
   "cell_type": "code",
   "source": [
    "import csv\n",
    "\n",
    "rcmValues = []\n",
    "\n",
    "response = client.list_findings_reports(\n",
    "    dailyReportsOnly=False,\n",
    "    endTime=datetime.now(),\n",
    "    profilingGroupName=PROFILING_GROUP_NAME,\n",
    "    startTime=datetime(2023, 1, 1)\n",
    ")\n",
    "\n",
    "for summary in dict(response)['findingsReportSummaries']:\n",
    "  print(summary)\n",
    "  print('\\t' + str(summary['totalNumberOfFindings']))\n",
    "  if summary['totalNumberOfFindings'] > 0:\n",
    "    rcms = client.get_recommendations(\n",
    "      endTime=summary['profileEndTime'],\n",
    "      locale='en-US',\n",
    "      profilingGroupName=PROFILING_GROUP_NAME,\n",
    "      startTime=summary['profileStartTime']\n",
    "    )\n",
    "\n",
    "    for rcm in dict(rcms)['recommendations']:\n",
    "      pattern = rcm['pattern']\n",
    "      del rcm['pattern']\n",
    "      rcm = rcm | pattern\n",
    "      rcmVal = []\n",
    "      for field in fields:\n",
    "        print(field)\n",
    "        rcmVal.append(rcm[field])\n",
    "      rcmValues.append(rcmVal)\n",
    "\n",
    "with open(CSV_FILE_NAME, 'w') as f:\n",
    "    write = csv.writer(f)\n",
    "      \n",
    "    write.writerow(fields.values())\n",
    "    write.writerows(rcmValues)"
   ],
   "metadata": {
    "colab": {
     "base_uri": "https://localhost:8080/"
    },
    "id": "nVb9kghz6Rg_",
    "executionInfo": {
     "status": "ok",
     "timestamp": 1682713356892,
     "user_tz": -180,
     "elapsed": 7858,
     "user": {
      "displayName": "Trâm Mai",
      "userId": "14047835568893253890"
     }
    },
    "outputId": "94bffbec-31d4-4c68-d416-293655c43076"
   },
   "execution_count": 5,
   "outputs": [
    {
     "output_type": "stream",
     "name": "stdout",
     "text": [
      "{'id': 'f8053456-b79e-41f2-8538-bdcc2335c143', 'profileEndTime': datetime.datetime(2023, 4, 27, 0, 0, tzinfo=tzlocal()), 'profileStartTime': datetime.datetime(2023, 4, 26, 0, 0, tzinfo=tzlocal()), 'profilingGroupName': 'DemoApplication-WithIssues', 'totalNumberOfFindings': 0}\n",
      "\t0\n",
      "{'id': '4247d780-a5d5-46bf-a097-e24aad464b29', 'profileEndTime': datetime.datetime(2023, 4, 26, 13, 0, tzinfo=tzlocal()), 'profileStartTime': datetime.datetime(2023, 4, 26, 12, 0, tzinfo=tzlocal()), 'profilingGroupName': 'DemoApplication-WithIssues', 'totalNumberOfFindings': 0}\n",
      "\t0\n",
      "{'id': 'a3dab4a8-658f-47ac-a69b-c1ea1ac01d1a', 'profileEndTime': datetime.datetime(2023, 4, 23, 0, 0, tzinfo=tzlocal()), 'profileStartTime': datetime.datetime(2023, 4, 22, 0, 0, tzinfo=tzlocal()), 'profilingGroupName': 'DemoApplication-WithIssues', 'totalNumberOfFindings': 1}\n",
      "\t1\n",
      "id\n",
      "name\n",
      "description\n",
      "resolutionSteps\n",
      "startTime\n",
      "endTime\n",
      "{'id': '5de5d713-6502-400b-b6cf-43dde139915a', 'profileEndTime': datetime.datetime(2023, 4, 22, 18, 0, tzinfo=tzlocal()), 'profileStartTime': datetime.datetime(2023, 4, 22, 17, 0, tzinfo=tzlocal()), 'profilingGroupName': 'DemoApplication-WithIssues', 'totalNumberOfFindings': 1}\n",
      "\t1\n",
      "id\n",
      "name\n",
      "description\n",
      "resolutionSteps\n",
      "startTime\n",
      "endTime\n",
      "{'id': '270ba44b-16a8-46eb-8bcd-217511f3d3c2', 'profileEndTime': datetime.datetime(2023, 4, 22, 17, 0, tzinfo=tzlocal()), 'profileStartTime': datetime.datetime(2023, 4, 22, 16, 0, tzinfo=tzlocal()), 'profilingGroupName': 'DemoApplication-WithIssues', 'totalNumberOfFindings': 1}\n",
      "\t1\n",
      "id\n",
      "name\n",
      "description\n",
      "resolutionSteps\n",
      "startTime\n",
      "endTime\n",
      "{'id': '069b2021-7983-408d-ac75-031bd24d1722', 'profileEndTime': datetime.datetime(2023, 4, 22, 16, 0, tzinfo=tzlocal()), 'profileStartTime': datetime.datetime(2023, 4, 22, 15, 0, tzinfo=tzlocal()), 'profilingGroupName': 'DemoApplication-WithIssues', 'totalNumberOfFindings': 1}\n",
      "\t1\n",
      "id\n",
      "name\n",
      "description\n",
      "resolutionSteps\n",
      "startTime\n",
      "endTime\n",
      "{'id': 'ec10333f-8a4c-438d-920f-cfec7bea3046', 'profileEndTime': datetime.datetime(2023, 4, 22, 15, 0, tzinfo=tzlocal()), 'profileStartTime': datetime.datetime(2023, 4, 22, 14, 0, tzinfo=tzlocal()), 'profilingGroupName': 'DemoApplication-WithIssues', 'totalNumberOfFindings': 1}\n",
      "\t1\n",
      "id\n",
      "name\n",
      "description\n",
      "resolutionSteps\n",
      "startTime\n",
      "endTime\n",
      "{'id': '4ac2d7d5-f782-45a9-84c5-3bec0f7816eb', 'profileEndTime': datetime.datetime(2023, 4, 22, 14, 0, tzinfo=tzlocal()), 'profileStartTime': datetime.datetime(2023, 4, 22, 13, 0, tzinfo=tzlocal()), 'profilingGroupName': 'DemoApplication-WithIssues', 'totalNumberOfFindings': 0}\n",
      "\t0\n",
      "{'id': '128a9039-ece9-4bcc-bee3-b3945ec0ea97', 'profileEndTime': datetime.datetime(2023, 4, 22, 13, 0, tzinfo=tzlocal()), 'profileStartTime': datetime.datetime(2023, 4, 22, 12, 0, tzinfo=tzlocal()), 'profilingGroupName': 'DemoApplication-WithIssues', 'totalNumberOfFindings': 1}\n",
      "\t1\n",
      "id\n",
      "name\n",
      "description\n",
      "resolutionSteps\n",
      "startTime\n",
      "endTime\n",
      "{'id': '34c4fd2c-325b-45c6-82ce-7029deefd7c5', 'profileEndTime': datetime.datetime(2023, 4, 22, 12, 0, tzinfo=tzlocal()), 'profileStartTime': datetime.datetime(2023, 4, 22, 11, 0, tzinfo=tzlocal()), 'profilingGroupName': 'DemoApplication-WithIssues', 'totalNumberOfFindings': 0}\n",
      "\t0\n",
      "{'id': '2fd8f00a-86ea-46e1-8f25-46ea0bf659a8', 'profileEndTime': datetime.datetime(2023, 4, 22, 11, 0, tzinfo=tzlocal()), 'profileStartTime': datetime.datetime(2023, 4, 22, 10, 0, tzinfo=tzlocal()), 'profilingGroupName': 'DemoApplication-WithIssues', 'totalNumberOfFindings': 1}\n",
      "\t1\n",
      "id\n",
      "name\n",
      "description\n",
      "resolutionSteps\n",
      "startTime\n",
      "endTime\n",
      "{'id': '0a33ffcb-b2ef-41ee-864e-624e9e14d504', 'profileEndTime': datetime.datetime(2023, 4, 22, 10, 0, tzinfo=tzlocal()), 'profileStartTime': datetime.datetime(2023, 4, 22, 9, 0, tzinfo=tzlocal()), 'profilingGroupName': 'DemoApplication-WithIssues', 'totalNumberOfFindings': 1}\n",
      "\t1\n",
      "id\n",
      "name\n",
      "description\n",
      "resolutionSteps\n",
      "startTime\n",
      "endTime\n",
      "{'id': 'fccc52a1-79a4-44e8-b0a3-fa17427c68d0', 'profileEndTime': datetime.datetime(2023, 4, 22, 9, 0, tzinfo=tzlocal()), 'profileStartTime': datetime.datetime(2023, 4, 22, 8, 0, tzinfo=tzlocal()), 'profilingGroupName': 'DemoApplication-WithIssues', 'totalNumberOfFindings': 1}\n",
      "\t1\n",
      "id\n",
      "name\n",
      "description\n",
      "resolutionSteps\n",
      "startTime\n",
      "endTime\n",
      "{'id': '6f6418e6-d39f-4b41-94cb-a1b288f9cfff', 'profileEndTime': datetime.datetime(2023, 4, 22, 8, 0, tzinfo=tzlocal()), 'profileStartTime': datetime.datetime(2023, 4, 22, 7, 0, tzinfo=tzlocal()), 'profilingGroupName': 'DemoApplication-WithIssues', 'totalNumberOfFindings': 1}\n",
      "\t1\n",
      "id\n",
      "name\n",
      "description\n",
      "resolutionSteps\n",
      "startTime\n",
      "endTime\n",
      "{'id': 'cb371f1b-6e3a-4980-8942-c03aba06fc66', 'profileEndTime': datetime.datetime(2023, 4, 22, 7, 0, tzinfo=tzlocal()), 'profileStartTime': datetime.datetime(2023, 4, 22, 6, 0, tzinfo=tzlocal()), 'profilingGroupName': 'DemoApplication-WithIssues', 'totalNumberOfFindings': 0}\n",
      "\t0\n",
      "{'id': '35903d27-fe15-4733-b446-e1f76657fd00', 'profileEndTime': datetime.datetime(2023, 4, 22, 6, 0, tzinfo=tzlocal()), 'profileStartTime': datetime.datetime(2023, 4, 22, 5, 0, tzinfo=tzlocal()), 'profilingGroupName': 'DemoApplication-WithIssues', 'totalNumberOfFindings': 0}\n",
      "\t0\n",
      "{'id': 'd85bd869-da69-4cce-a9f4-e7d31aeb6a91', 'profileEndTime': datetime.datetime(2023, 4, 22, 5, 0, tzinfo=tzlocal()), 'profileStartTime': datetime.datetime(2023, 4, 22, 4, 0, tzinfo=tzlocal()), 'profilingGroupName': 'DemoApplication-WithIssues', 'totalNumberOfFindings': 1}\n",
      "\t1\n",
      "id\n",
      "name\n",
      "description\n",
      "resolutionSteps\n",
      "startTime\n",
      "endTime\n",
      "{'id': '06f66995-094d-4f56-b4e4-b4ff8cae24f0', 'profileEndTime': datetime.datetime(2023, 4, 22, 4, 0, tzinfo=tzlocal()), 'profileStartTime': datetime.datetime(2023, 4, 22, 3, 0, tzinfo=tzlocal()), 'profilingGroupName': 'DemoApplication-WithIssues', 'totalNumberOfFindings': 0}\n",
      "\t0\n",
      "{'id': 'd30e56ec-ea97-4d98-b613-05b977f0ce95', 'profileEndTime': datetime.datetime(2023, 4, 22, 3, 0, tzinfo=tzlocal()), 'profileStartTime': datetime.datetime(2023, 4, 22, 2, 0, tzinfo=tzlocal()), 'profilingGroupName': 'DemoApplication-WithIssues', 'totalNumberOfFindings': 1}\n",
      "\t1\n",
      "id\n",
      "name\n",
      "description\n",
      "resolutionSteps\n",
      "startTime\n",
      "endTime\n",
      "{'id': 'fa2ce247-402a-41da-8496-74fa712861bd', 'profileEndTime': datetime.datetime(2023, 4, 22, 2, 0, tzinfo=tzlocal()), 'profileStartTime': datetime.datetime(2023, 4, 22, 1, 0, tzinfo=tzlocal()), 'profilingGroupName': 'DemoApplication-WithIssues', 'totalNumberOfFindings': 1}\n",
      "\t1\n",
      "id\n",
      "name\n",
      "description\n",
      "resolutionSteps\n",
      "startTime\n",
      "endTime\n",
      "{'id': 'bfece40d-c003-4408-a032-6472987dd82e', 'profileEndTime': datetime.datetime(2023, 4, 22, 1, 0, tzinfo=tzlocal()), 'profileStartTime': datetime.datetime(2023, 4, 22, 0, 0, tzinfo=tzlocal()), 'profilingGroupName': 'DemoApplication-WithIssues', 'totalNumberOfFindings': 1}\n",
      "\t1\n",
      "id\n",
      "name\n",
      "description\n",
      "resolutionSteps\n",
      "startTime\n",
      "endTime\n",
      "{'id': 'c86dda7d-a620-4f21-8bc0-54e4fc74b8e9', 'profileEndTime': datetime.datetime(2023, 4, 22, 0, 0, tzinfo=tzlocal()), 'profileStartTime': datetime.datetime(2023, 4, 21, 0, 0, tzinfo=tzlocal()), 'profilingGroupName': 'DemoApplication-WithIssues', 'totalNumberOfFindings': 0}\n",
      "\t0\n",
      "{'id': '757d4727-4e28-47b8-8599-6f5d525db965', 'profileEndTime': datetime.datetime(2023, 4, 22, 0, 0, tzinfo=tzlocal()), 'profileStartTime': datetime.datetime(2023, 4, 21, 23, 0, tzinfo=tzlocal()), 'profilingGroupName': 'DemoApplication-WithIssues', 'totalNumberOfFindings': 1}\n",
      "\t1\n",
      "id\n",
      "name\n",
      "description\n",
      "resolutionSteps\n",
      "startTime\n",
      "endTime\n",
      "{'id': '0b561bb9-75c4-452b-b5cb-c0ca385fa7fb', 'profileEndTime': datetime.datetime(2023, 4, 21, 23, 0, tzinfo=tzlocal()), 'profileStartTime': datetime.datetime(2023, 4, 21, 22, 0, tzinfo=tzlocal()), 'profilingGroupName': 'DemoApplication-WithIssues', 'totalNumberOfFindings': 1}\n",
      "\t1\n",
      "id\n",
      "name\n",
      "description\n",
      "resolutionSteps\n",
      "startTime\n",
      "endTime\n",
      "{'id': 'a93b4110-8d80-405f-9d42-330397440acb', 'profileEndTime': datetime.datetime(2023, 4, 21, 22, 0, tzinfo=tzlocal()), 'profileStartTime': datetime.datetime(2023, 4, 21, 21, 0, tzinfo=tzlocal()), 'profilingGroupName': 'DemoApplication-WithIssues', 'totalNumberOfFindings': 2}\n",
      "\t2\n",
      "id\n",
      "name\n",
      "description\n",
      "resolutionSteps\n",
      "startTime\n",
      "endTime\n",
      "id\n",
      "name\n",
      "description\n",
      "resolutionSteps\n",
      "startTime\n",
      "endTime\n",
      "{'id': '93a4ec73-6d3b-4437-aed4-d8e79994dd8e', 'profileEndTime': datetime.datetime(2023, 4, 21, 21, 0, tzinfo=tzlocal()), 'profileStartTime': datetime.datetime(2023, 4, 21, 20, 0, tzinfo=tzlocal()), 'profilingGroupName': 'DemoApplication-WithIssues', 'totalNumberOfFindings': 1}\n",
      "\t1\n",
      "id\n",
      "name\n",
      "description\n",
      "resolutionSteps\n",
      "startTime\n",
      "endTime\n",
      "{'id': '09aba07c-fbb5-4107-92e1-4fdace96d57a', 'profileEndTime': datetime.datetime(2023, 4, 21, 20, 0, tzinfo=tzlocal()), 'profileStartTime': datetime.datetime(2023, 4, 21, 19, 0, tzinfo=tzlocal()), 'profilingGroupName': 'DemoApplication-WithIssues', 'totalNumberOfFindings': 1}\n",
      "\t1\n",
      "id\n",
      "name\n",
      "description\n",
      "resolutionSteps\n",
      "startTime\n",
      "endTime\n",
      "{'id': '706508b5-5aad-4aef-8eca-5a41139545a0', 'profileEndTime': datetime.datetime(2023, 4, 21, 19, 0, tzinfo=tzlocal()), 'profileStartTime': datetime.datetime(2023, 4, 21, 18, 0, tzinfo=tzlocal()), 'profilingGroupName': 'DemoApplication-WithIssues', 'totalNumberOfFindings': 0}\n",
      "\t0\n",
      "{'id': 'd4731e63-3408-4da1-8a0a-06a3a7ff60f9', 'profileEndTime': datetime.datetime(2023, 4, 21, 18, 0, tzinfo=tzlocal()), 'profileStartTime': datetime.datetime(2023, 4, 21, 17, 0, tzinfo=tzlocal()), 'profilingGroupName': 'DemoApplication-WithIssues', 'totalNumberOfFindings': 0}\n",
      "\t0\n",
      "{'id': 'aed59f3e-095a-4618-b02d-6f4ac4b0f801', 'profileEndTime': datetime.datetime(2023, 4, 21, 13, 0, tzinfo=tzlocal()), 'profileStartTime': datetime.datetime(2023, 4, 21, 12, 0, tzinfo=tzlocal()), 'profilingGroupName': 'DemoApplication-WithIssues', 'totalNumberOfFindings': 0}\n",
      "\t0\n",
      "{'id': '766d295c-0550-4730-8f69-9794f5ddda3b', 'profileEndTime': datetime.datetime(2023, 4, 21, 12, 0, tzinfo=tzlocal()), 'profileStartTime': datetime.datetime(2023, 4, 21, 11, 0, tzinfo=tzlocal()), 'profilingGroupName': 'DemoApplication-WithIssues', 'totalNumberOfFindings': 2}\n",
      "\t2\n",
      "id\n",
      "name\n",
      "description\n",
      "resolutionSteps\n",
      "startTime\n",
      "endTime\n",
      "id\n",
      "name\n",
      "description\n",
      "resolutionSteps\n",
      "startTime\n",
      "endTime\n"
     ]
    }
   ]
  },
  {
   "cell_type": "code",
   "source": [
    "rcmTable = [list(fields.values())] + rcmValues\n",
    "print(', '.join(rcmValues[0]))"
   ],
   "metadata": {
    "colab": {
     "base_uri": "https://localhost:8080/",
     "height": 182
    },
    "id": "p8QQt33Hqjqp",
    "executionInfo": {
     "status": "error",
     "timestamp": 1682599279945,
     "user_tz": -180,
     "elapsed": 275,
     "user": {
      "displayName": "Trâm Mai",
      "userId": "14047835568893253890"
     }
    },
    "outputId": "fa951786-beeb-4de3-c636-561149d172f4"
   },
   "execution_count": null,
   "outputs": [
    {
     "output_type": "error",
     "ename": "TypeError",
     "evalue": "ignored",
     "traceback": [
      "\u001B[0;31m---------------------------------------------------------------------------\u001B[0m",
      "\u001B[0;31mTypeError\u001B[0m                                 Traceback (most recent call last)",
      "\u001B[0;32m<ipython-input-25-f83810bd35f3>\u001B[0m in \u001B[0;36m<cell line: 2>\u001B[0;34m()\u001B[0m\n\u001B[1;32m      1\u001B[0m \u001B[0mrcmTable\u001B[0m \u001B[0;34m=\u001B[0m \u001B[0;34m[\u001B[0m\u001B[0mlist\u001B[0m\u001B[0;34m(\u001B[0m\u001B[0mfields\u001B[0m\u001B[0;34m.\u001B[0m\u001B[0mvalues\u001B[0m\u001B[0;34m(\u001B[0m\u001B[0;34m)\u001B[0m\u001B[0;34m)\u001B[0m\u001B[0;34m]\u001B[0m \u001B[0;34m+\u001B[0m \u001B[0mrcmValues\u001B[0m\u001B[0;34m\u001B[0m\u001B[0;34m\u001B[0m\u001B[0m\n\u001B[0;32m----> 2\u001B[0;31m \u001B[0mprint\u001B[0m\u001B[0;34m(\u001B[0m\u001B[0;34m', '\u001B[0m\u001B[0;34m.\u001B[0m\u001B[0mjoin\u001B[0m\u001B[0;34m(\u001B[0m\u001B[0mrcmValues\u001B[0m\u001B[0;34m[\u001B[0m\u001B[0;36m0\u001B[0m\u001B[0;34m]\u001B[0m\u001B[0;34m)\u001B[0m\u001B[0;34m)\u001B[0m\u001B[0;34m\u001B[0m\u001B[0;34m\u001B[0m\u001B[0m\n\u001B[0m",
      "\u001B[0;31mTypeError\u001B[0m: sequence item 4: expected str instance, datetime.datetime found"
     ]
    }
   ]
  },
  {
   "cell_type": "code",
   "execution_count": null,
   "metadata": {
    "colab": {
     "base_uri": "https://localhost:8080/"
    },
    "id": "xob9Ncu6dngt",
    "executionInfo": {
     "status": "ok",
     "timestamp": 1682595816895,
     "user_tz": -180,
     "elapsed": 2093,
     "user": {
      "displayName": "Trâm Mai",
      "userId": "14047835568893253890"
     }
    },
    "outputId": "ff484013-dad5-4e15-fc3e-10bf5d9ad844"
   },
   "outputs": [
    {
     "output_type": "stream",
     "name": "stdout",
     "text": [
      "dict_keys(['Date', 'Content-Type', 'Content-Length', 'Connection', 'Cache-Control', 'Content-Language', 'Expires', 'Set-Cookie', 'Strict-Transport-Security', 'X-CA-Affinity', 'X-CA-Transaction', 'X-Content-Type-Options', 'Content-Security-Policy'])\n"
     ]
    }
   ],
   "source": [
    "import requests\n",
    "\n",
    "ENDPOINT = 'https://eu2.ca.analytics.ibm.com'\n",
    "\n",
    "payload = {\n",
    "  \"parameters\": [\n",
    "    {\n",
    "      \"name\": \"CAMAPILoginKey\",\n",
    "      \"value\": \"AWkxREEwNEY2MDYzREU0NTQxOUQ4QkQyMkU3MDE3NzI2QhPX601ozyLBUdJnff6twg1oDscu\"\n",
    "    }\n",
    "  ]\n",
    "}\n",
    "\n",
    "headers = {\n",
    "    'IBM-BA-Authorization': \"CAM MTsxMDE6YWQ2MmJlZWYtZGI2NS00NjdjLWJkMzctZjhlMDkxMDY5NjM2OjM0NDM2MjE1NTg7MDszOzA7\",\n",
    "}\n",
    "\n",
    "r = requests.put(ENDPOINT + '/api/v1/session', json=payload)\n",
    "\n",
    "\n",
    "print(dict(r.headers).keys())"
   ]
  },
  {
   "cell_type": "code",
   "source": [
    "apiKey = dict(r.cookies)['cam_passport']\n",
    "print(apiKey)"
   ],
   "metadata": {
    "colab": {
     "base_uri": "https://localhost:8080/"
    },
    "id": "3BCX8b9ZkmBk",
    "executionInfo": {
     "status": "ok",
     "timestamp": 1682595819380,
     "user_tz": -180,
     "elapsed": 228,
     "user": {
      "displayName": "Trâm Mai",
      "userId": "14047835568893253890"
     }
    },
    "outputId": "d9ca3509-acc6-4dc0-f709-e01f20fc10f5"
   },
   "execution_count": null,
   "outputs": [
    {
     "output_type": "stream",
     "name": "stdout",
     "text": [
      "MTsxMDE6MzRkNTc2OGMtYjNlYi1hMTg5LTg1NmItZDdlOWI3NTcyZjllOjIzODg2ODYyNzk7MDszOzA7\n"
     ]
    }
   ]
  },
  {
   "cell_type": "code",
   "source": [
    "headers = {\n",
    "    'IBM-BA-Authorization': \"CAM \" + apiKey,\n",
    "}"
   ],
   "metadata": {
    "id": "1B9kqOaXmtyc"
   },
   "execution_count": null,
   "outputs": []
  },
  {
   "cell_type": "code",
   "source": [
    "stamp = datetime.now().strftime('%Y%m%d-%H%M%S')\n",
    "\n",
    "payload = {\n",
    "  \"destination\": \"i30F03D682021444F8D2368C127AC0ABD\",\n",
    "  \"filename\": \"recommendation_report-\" + stamp\n",
    "}\n",
    "\n",
    "r = requests.post(ENDPOINT + '/api/v1/files/import', json=payload, headers=headers)\n",
    "print(r.status_code)\n",
    "importPath = eval(r.text)['importPath']\n",
    "print(importPath)\n",
    "affinity = dict(r.headers)['X-CA-Affinity']\n",
    "print(affinity)"
   ],
   "metadata": {
    "colab": {
     "base_uri": "https://localhost:8080/"
    },
    "id": "-PNClkKnnnlu",
    "executionInfo": {
     "status": "ok",
     "timestamp": 1682595825008,
     "user_tz": -180,
     "elapsed": 1119,
     "user": {
      "displayName": "Trâm Mai",
      "userId": "14047835568893253890"
     }
    },
    "outputId": "4cf6cbba-2cc9-40d0-f5c7-70ec40f54ac4"
   },
   "execution_count": null,
   "outputs": [
    {
     "output_type": "stream",
     "name": "stdout",
     "text": [
      "202\n",
      "/api/v1/files/import/segment/1683033748137\n",
      "563143633\n"
     ]
    }
   ]
  },
  {
   "cell_type": "code",
   "source": [
    "upload_headers = headers.copy()\n",
    "upload_headers['X-CA-Affinity'] = affinity\n",
    "upload_headers['content-type'] = 'text/csv'\n",
    "upload_headers['accept'] = 'application/json'\n",
    "#upload_headers['Content-type'] = 'application/octet-stream'\n",
    "print(upload_headers)"
   ],
   "metadata": {
    "colab": {
     "base_uri": "https://localhost:8080/"
    },
    "id": "l-fQZgOOt_Pj",
    "executionInfo": {
     "status": "ok",
     "timestamp": 1682595827057,
     "user_tz": -180,
     "elapsed": 207,
     "user": {
      "displayName": "Trâm Mai",
      "userId": "14047835568893253890"
     }
    },
    "outputId": "febb77bd-5ec4-48c7-aef9-6799d454fc51"
   },
   "execution_count": null,
   "outputs": [
    {
     "output_type": "stream",
     "name": "stdout",
     "text": [
      "{'IBM-BA-Authorization': 'CAM MTsxMDE6MzRkNTc2OGMtYjNlYi1hMTg5LTg1NmItZDdlOWI3NTcyZjllOjIzODg2ODYyNzk7MDszOzA7', 'X-CA-Affinity': '563143633', 'content-type': 'text/csv', 'accept': 'application/json'}\n"
     ]
    }
   ]
  },
  {
   "cell_type": "code",
   "source": [
    "#with open('Test.csv', 'rb') as csv_file:\n",
    "#print(upload_headers)\n",
    "r = requests.put(ENDPOINT + importPath + '?index=1', data=open(CSV_FILE_NAME, 'rb'), headers=upload_headers)\n",
    "r = requests.put(ENDPOINT + importPath + '?index=-1', data='', headers=upload_headers)\n",
    "print(r.text)\n",
    "print(r.status_code)\n",
    "print(r.headers)\n",
    "taskID = eval(r.text)['taskID']"
   ],
   "metadata": {
    "colab": {
     "base_uri": "https://localhost:8080/"
    },
    "id": "-8_uk44B2lsm",
    "executionInfo": {
     "status": "ok",
     "timestamp": 1682595831044,
     "user_tz": -180,
     "elapsed": 1997,
     "user": {
      "displayName": "Trâm Mai",
      "userId": "14047835568893253890"
     }
    },
    "outputId": "f74b6e9e-130c-4776-a3c1-dd08293cfa98"
   },
   "execution_count": null,
   "outputs": [
    {
     "output_type": "stream",
     "name": "stdout",
     "text": [
      "{\"href\":\"/tasks/task2531682595829385\",\"taskID\":\"task2531682595829385\"}\n",
      "202\n",
      "{'Date': 'Thu, 27 Apr 2023 11:43:49 GMT', 'Content-Type': 'application/json', 'Content-Length': '64', 'Connection': 'keep-alive', 'Cache-Control': 'no-cache, no-store', 'Content-Encoding': 'gzip', 'Content-Language': 'en-US', 'Expires': 'Thu, 01 Jan 1970 00:00:00 GMT', 'Strict-Transport-Security': 'max-age=15724800; includeSubDomains', 'Via': '1.1 localhost (Apache-HttpClient/4.5.13 (cache))', 'X-CA-Affinity': '563143633', 'X-CA-Transaction': 'jj9hjvlMdG4lqMhlMyj22hlyC9C884jyhvsd4yq9', 'x-ca-requesttime': 'path=files/import/segment/1683033748137; start=1682595829095; end=1682595829391; elapsed=296'}\n"
     ]
    }
   ]
  },
  {
   "cell_type": "code",
   "source": [
    "new_headers = headers.copy()\n",
    "new_headers['X-CA-Affinity'] = affinity\n",
    "r = requests.get(ENDPOINT + '/api/v1/files/import/tasks/' + taskID, headers=new_headers)\n",
    "print(r.status_code)\n",
    "print(r.text)"
   ],
   "metadata": {
    "colab": {
     "base_uri": "https://localhost:8080/"
    },
    "id": "St0sNo4dCvTF",
    "executionInfo": {
     "status": "ok",
     "timestamp": 1682595833904,
     "user_tz": -180,
     "elapsed": 576,
     "user": {
      "displayName": "Trâm Mai",
      "userId": "14047835568893253890"
     }
    },
    "outputId": "f67d97ab-3437-40bd-ce4e-f5e25b336779"
   },
   "execution_count": null,
   "outputs": [
    {
     "output_type": "stream",
     "name": "stdout",
     "text": [
      "200\n",
      "{\"state\":\"SUCCESS\",\"response\":{\"href\":\"/base_modules/iD2E8112CADF2423A8A6DDAD5C2364471\",\"id\":\"iD2E8112CADF2423A8A6DDAD5C2364471\",\"ids\":[\"iD2E8112CADF2423A8A6DDAD5C2364471\"],\"label\":\"recommendation_report-20230427-114343\",\"lastModified\":\"2023-04-27T11:43:49.652Z\"},\"taskType\":\"FileUpload\",\"taskID\":\"task2531682595829385\",\"cmUpdateTime\":0}\n"
     ]
    }
   ]
  }
 ]
}
